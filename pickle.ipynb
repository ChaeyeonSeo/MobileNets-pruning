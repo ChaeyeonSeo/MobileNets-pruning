{
 "cells": [
  {
   "cell_type": "code",
   "execution_count": 8,
   "outputs": [],
   "source": [
    "import pickle\n",
    "import torch"
   ],
   "metadata": {
    "collapsed": false,
    "pycharm": {
     "name": "#%%\n"
    }
   }
  },
  {
   "cell_type": "code",
   "execution_count": 11,
   "metadata": {
    "collapsed": true,
    "pycharm": {
     "name": "#%%\n"
    }
   },
   "outputs": [],
   "source": [
    "# Load data (deserialize)\n",
    "with open('torch_pruning.pickle', 'rb') as handle:\n",
    "    torch_pruning = pickle.load(handle)\n",
    "\n",
    "with open('code_pruning.pickle', 'rb') as handle:\n",
    "    code_pruning = pickle.load(handle)\n",
    "\n",
    "for k in torch_pruning.keys():\n",
    "    if len(torch_pruning[k]) != len(code_pruning[k]):\n",
    "        print(k)\n",
    "    # print(torch_pruning[k].size())\n",
    "    # print(code_pruning[k].size())\n",
    "    if not torch.equal(torch_pruning[k], code_pruning[k]):\n",
    "        print(k)"
   ]
  },
  {
   "cell_type": "code",
   "execution_count": null,
   "outputs": [],
   "source": [
    "import models.mobilenetv1\n",
    "\n",
    "model = models.mobilenetv1.MobileNet()\n",
    "model = torch.load('/checkpoints/mobilenetv1.pt').state_dict()\n"
   ],
   "metadata": {
    "collapsed": false,
    "pycharm": {
     "name": "#%%\n"
    }
   }
  }
 ],
 "metadata": {
  "kernelspec": {
   "display_name": "Python 3",
   "language": "python",
   "name": "python3"
  },
  "language_info": {
   "codemirror_mode": {
    "name": "ipython",
    "version": 2
   },
   "file_extension": ".py",
   "mimetype": "text/x-python",
   "name": "python",
   "nbconvert_exporter": "python",
   "pygments_lexer": "ipython2",
   "version": "2.7.6"
  }
 },
 "nbformat": 4,
 "nbformat_minor": 0
}